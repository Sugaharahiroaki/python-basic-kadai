{
  "nbformat": 4,
  "nbformat_minor": 0,
  "metadata": {
    "colab": {
      "provenance": []
    },
    "kernelspec": {
      "name": "python3",
      "display_name": "Python 3"
    },
    "language_info": {
      "name": "python"
    }
  },
  "cells": [
    {
      "cell_type": "code",
      "execution_count": 1,
      "metadata": {
        "colab": {
          "base_uri": "https://localhost:8080/"
        },
        "id": "ObfzkJD6_RAz",
        "outputId": "80603816-1f08-4aed-a7e3-20e9028a6fdd"
      },
      "outputs": [
        {
          "output_type": "stream",
          "name": "stdout",
          "text": [
            "名前： 太郎\n",
            "年齢： 25\n"
          ]
        }
      ],
      "source": [
        "# Humanクラスの定義\n",
        "class Human:\n",
        "    def __init__(self, name, age):\n",
        "        # 属性（インスタンス変数）\n",
        "        self.name = name\n",
        "        self.age = age\n",
        "\n",
        "    # メソッドの定義\n",
        "    def printinfo(self):\n",
        "        print(\"名前：\", self.name)\n",
        "        print(\"年齢：\", self.age)\n",
        "\n",
        "# Humanクラスのインスタンスを作成し、変数に代入\n",
        "human1 = Human(\"太郎\", 25)\n",
        "\n",
        "# メソッドを呼び出して出力\n",
        "human1.printinfo()\n"
      ]
    }
  ]
}