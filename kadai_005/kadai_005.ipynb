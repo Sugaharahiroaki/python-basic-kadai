{
  "nbformat": 4,
  "nbformat_minor": 0,
  "metadata": {
    "colab": {
      "provenance": []
    },
    "kernelspec": {
      "name": "python3",
      "display_name": "Python 3"
    },
    "language_info": {
      "name": "python"
    }
  },
  "cells": [
    {
      "cell_type": "code",
      "execution_count": null,
      "metadata": {
        "colab": {
          "base_uri": "https://localhost:8080/"
        },
        "id": "BaCbdKKeidwb",
        "outputId": "9526a2ec-1e49-44a5-cd44-40c769c954be"
      },
      "outputs": [
        {
          "output_type": "stream",
          "name": "stdout",
          "text": [
            "75.0cm²\n"
          ]
        }
      ],
      "source": [
        "# 台形の寸法\n",
        "upper = 10   # 上辺（cm）\n",
        "lower = 20   # 下辺（cm）\n",
        "height = 5   # 高さ（cm）\n",
        "\n",
        "# 台形の面積の計算結果を変数に代入\n",
        "area = (upper + lower) * height / 2\n",
        "\n",
        "# 数値と文字列を結合して出力\n",
        "print(str(area) + \"cm²\")\n"
      ]
    }
  ]
}