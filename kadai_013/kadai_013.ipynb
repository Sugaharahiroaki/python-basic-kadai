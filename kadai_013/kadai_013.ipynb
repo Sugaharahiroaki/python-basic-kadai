{
  "nbformat": 4,
  "nbformat_minor": 0,
  "metadata": {
    "colab": {
      "provenance": []
    },
    "kernelspec": {
      "name": "python3",
      "display_name": "Python 3"
    },
    "language_info": {
      "name": "python"
    }
  },
  "cells": [
    {
      "cell_type": "code",
      "execution_count": 2,
      "metadata": {
        "colab": {
          "base_uri": "https://localhost:8080/"
        },
        "id": "6j9rbT_A2I3i",
        "outputId": "933236c1-28ee-4881-a9aa-a9f9fd2e0dd4"
      },
      "outputs": [
        {
          "output_type": "stream",
          "name": "stdout",
          "text": [
            "121.00000000000001\n"
          ]
        }
      ],
      "source": [
        "# 消費税を加えた金額を計算する関数\n",
        "def calc_tax(price, tax_rate):\n",
        "    # 税率を％表記（例：10）から小数に直して計算\n",
        "    total = price * (1 + tax_rate / 100)\n",
        "    # 計算結果を戻り値として返す\n",
        "    return total\n",
        "\n",
        "# 関数を呼び出して計算\n",
        "result = calc_tax(110, 10)\n",
        "\n",
        "# 結果を出力\n",
        "print(result)\n"
      ]
    }
  ]
}