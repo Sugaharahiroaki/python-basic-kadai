{
  "nbformat": 4,
  "nbformat_minor": 0,
  "metadata": {
    "colab": {
      "provenance": []
    },
    "kernelspec": {
      "name": "python3",
      "display_name": "Python 3"
    },
    "language_info": {
      "name": "python"
    }
  },
  "cells": [
    {
      "cell_type": "code",
      "execution_count": 1,
      "metadata": {
        "id": "xVNzU4CK-dLa"
      },
      "outputs": [],
      "source": [
        "# Colab では requests は入っていますが、指示通り pip も実行しておきます\n",
        "!pip -q install requests\n",
        "\n",
        "import requests\n",
        "from getpass import getpass\n",
        "from pprint import pprint\n"
      ]
    },
    {
      "cell_type": "code",
      "source": [
        "print(\"Google Maps APIキーを入力します\")\n",
        "api_key = getpass(\"Google Maps APIキー\")\n",
        "\n",
        "print(\"続いて、駅名を入力します\")\n",
        "station_name = input(\"駅名: \").strip()\n",
        "\n",
        "if not station_name:\n",
        "    raise ValueError(\"駅名が空です。もう一度実行して駅名を入力してください。\")\n"
      ],
      "metadata": {
        "colab": {
          "base_uri": "https://localhost:8080/"
        },
        "id": "tZrYxSBu-mv6",
        "outputId": "1474a86b-dd60-4ef4-949e-8609c243e4dd"
      },
      "execution_count": 4,
      "outputs": [
        {
          "name": "stdout",
          "output_type": "stream",
          "text": [
            "Google Maps APIキーを入力します\n",
            "Google Maps APIキー··········\n",
            "続いて、駅名を入力します\n",
            "駅名: 名古屋駅\n"
          ]
        }
      ]
    },
    {
      "cell_type": "code",
      "source": [
        "GEOCODE_URL = \"https://maps.googleapis.com/maps/api/geocode/json\"\n",
        "\n",
        "geo_params = {\n",
        "    \"address\": station_name,  # そのまま駅名でOK（例：新宿駅、梅田駅）\n",
        "    \"key\": api_key,\n",
        "    \"language\": \"ja\"\n",
        "}\n",
        "\n",
        "geo_res = requests.get(GEOCODE_URL, params=geo_params)\n",
        "geo_json = geo_res.json()\n",
        "\n",
        "# 途中確認（必要ならコメントを外して中身を見てください）\n",
        "# pprint(geo_json)\n",
        "\n",
        "status = geo_json.get(\"status\")\n",
        "if status != \"OK\" or not geo_json.get(\"results\"):\n",
        "    raise RuntimeError(f\"ジオコーディングに失敗しました: status={status}, results={geo_json.get('results')}\")\n",
        "\n",
        "location = geo_json[\"results\"][0][\"geometry\"][\"location\"]\n",
        "lat, lng = location[\"lat\"], location[\"lng\"]\n",
        "\n",
        "print(f\"取得した座標: {station_name} → lat={lat}, lng={lng}\")\n"
      ],
      "metadata": {
        "colab": {
          "base_uri": "https://localhost:8080/"
        },
        "id": "_t_GG0-S-pVI",
        "outputId": "1e8017c0-349a-4951-b401-8084c3607fd3"
      },
      "execution_count": 5,
      "outputs": [
        {
          "output_type": "stream",
          "name": "stdout",
          "text": [
            "取得した座標: 名古屋駅 → lat=35.170915, lng=136.8815369\n"
          ]
        }
      ]
    },
    {
      "cell_type": "markdown",
      "source": [],
      "metadata": {
        "id": "hEGXxC_IA2mQ"
      }
    },
    {
      "cell_type": "code",
      "source": [
        "PLACES_URL = \"https://maps.googleapis.com/maps/api/place/nearbysearch/json\"\n",
        "\n",
        "places_params = {\n",
        "    \"location\": f\"{lat},{lng}\",\n",
        "    \"radius\": 500,           # 500m\n",
        "    \"type\": \"restaurant\",    # レストラン\n",
        "    \"language\": \"ja\",\n",
        "    \"key\": api_key,\n",
        "}\n",
        "\n",
        "places_res = requests.get(PLACES_URL, params=places_params)\n",
        "places_json = places_res.json()\n",
        "\n",
        "# 途中確認（必要ならコメントを外して中身を見てください）\n",
        "# pprint(places_json)\n",
        "\n",
        "status = places_json.get(\"status\")\n",
        "if status != \"OK\":\n",
        "    raise RuntimeError(f\"Places API エラー: status={status}, error_message={places_json.get('error_message')}\")\n",
        "\n",
        "results = places_json.get(\"results\", [])\n",
        "print(f\"\\n入力した駅から半径500メートル以内のレストラン情報を出力（{len(results)}件）\")\n",
        "\n",
        "if not results:\n",
        "    print(\"該当するレストランが見つかりませんでした。キーワードや場所を変えて再実行してください。\")\n",
        "else:\n",
        "    for i, r in enumerate(results, start=1):\n",
        "        name = r.get(\"name\", \"（名称不明）\")\n",
        "        rating = r.get(\"rating\", \"—\")\n",
        "        # Nearby Search は 'vicinity' に簡易住所が入ることが多い\n",
        "        address = r.get(\"vicinity\") or r.get(\"formatted_address\") or \"住所不明\"\n",
        "        print(f\"{i:02d}. {name}\\n    評価: {rating}\\n    住所: {address}\")\n"
      ],
      "metadata": {
        "colab": {
          "base_uri": "https://localhost:8080/"
        },
        "id": "FZQiOTNR-rHh",
        "outputId": "7ca1752a-392c-4465-d4ca-9a1ae5c86fce"
      },
      "execution_count": 6,
      "outputs": [
        {
          "output_type": "stream",
          "name": "stdout",
          "text": [
            "\n",
            "入力した駅から半径500メートル以内のレストラン情報を出力（20件）\n",
            "01. 飛騨牛一頭家 馬喰一代 名古屋WEST\n",
            "    評価: 4.1\n",
            "    住所: 名古屋市西区牛島町６−２４ アクロスキューブ名古屋 2F\n",
            "02. 中国料理 梨杏\n",
            "    評価: 4.3\n",
            "    住所: 名古屋市中村区名駅１丁目１−４ 名古屋マリオットアソシアホテル 18階\n",
            "03. 和食・酒 えん 名古屋JRセントラルタワーズ店\n",
            "    評価: 4\n",
            "    住所: 名古屋市中村区名駅１丁目１−４ １３Ｆ\n",
            "04. 南翔饅頭店 ミッドランドスクエア店\n",
            "    評価: 3.8\n",
            "    住所: 名古屋市中村区名駅４丁目７−１ ミッドランドスクエア 4F\n",
            "05. すし 桂\n",
            "    評価: 3.6\n",
            "    住所: 名古屋市中村区名駅１丁目１−４ 13F\n",
            "06. 日本料理 名古屋浅田\n",
            "    評価: 4.4\n",
            "    住所: 名古屋市中村区名駅１丁目１−４ JRセントラルタワーズ・タワーズプラザ 12階\n",
            "07. ピッツェリア イゾラ 名古屋ミッドランドスクエア\n",
            "    評価: 3.4\n",
            "    住所: 名古屋市中村区名駅４丁目７−１ ミッドランドスクエア 4F\n",
            "08. 風来坊 近鉄名駅店\n",
            "    評価: 3.6\n",
            "    住所: 名古屋市中村区名駅１丁目２−２ 近鉄名古屋駅構内 特急のりば\n",
            "09. 名古屋 今井屋本店\n",
            "    評価: 3.8\n",
            "    住所: 名古屋市中村区名駅４丁目７−１ ミッドランドスクエア 4F\n",
            "10. 世界の山ちゃん名駅西口店\n",
            "    評価: 3.8\n",
            "    住所: 名古屋市中村区名駅１丁目１−１４\n",
            "11. La maison JOUVAUD KITTE名古屋店\n",
            "    評価: 3.9\n",
            "    住所: 名古屋市中村区名駅１丁目１−１ KITTE名古屋1F\n",
            "12. THE GATEHOUSE\n",
            "    評価: 4.1\n",
            "    住所: 名古屋市中村区名駅１丁目１−３ 名古屋JRゲートタワーホテル 15F\n",
            "13. 名鉄グランドホテル\n",
            "    評価: 3.8\n",
            "    住所: 名古屋市中村区名駅１丁目２−４ 名鉄バスターミナルビル １１階～１８階\n",
            "14. サンマルコ名古屋近鉄店\n",
            "    評価: 3.9\n",
            "    住所: 名古屋市中村区名駅１丁目２−２ 近鉄百貨店名古屋店 地下1階\n",
            "15. スパゲッティ·ハウス ヨコイ KITTE名古屋店\n",
            "    評価: 3.7\n",
            "    住所: 名古屋市中村区名駅１丁目１−１ KITTE名古屋B1F\n",
            "16. 歌行燈 名鉄店\n",
            "    評価: 3.6\n",
            "    住所: 名古屋市中村区名駅１丁目２−１ 名鉄百貨店本店 9階\n",
            "17. MASA'S KITCHEN 名古屋JRゲートタワー\n",
            "    評価: 4.2\n",
            "    住所: 名古屋市中村区名駅１丁目１−３ JRゲートタワー プラザレストラン街内\n",
            "18. BISTRO STEAK T-bone\n",
            "    評価: 4.2\n",
            "    住所: 名古屋市中村区名駅２丁目４５−７ 松岡ビル B1F\n",
            "19. ニックストック 名古屋駅前店\n",
            "    評価: 3.8\n",
            "    住所: 名古屋市西区牛島町６−２４ アクロスキューブ名古屋 １階\n",
            "20. Johnnie’s Brasserie(ジョニーズ ブラッセリー)\n",
            "    評価: 4.1\n",
            "    住所: 名古屋市中村区名駅１丁目１−３ JRゲートタワー 13F\n"
          ]
        }
      ]
    }
  ]
}